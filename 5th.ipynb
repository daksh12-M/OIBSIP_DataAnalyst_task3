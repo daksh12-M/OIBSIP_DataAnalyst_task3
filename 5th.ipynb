{
 "cells": [
  {
   "cell_type": "code",
   "execution_count": 8,
   "id": "55c3817f-aa74-444b-a2da-60e2dd5ce57a",
   "metadata": {},
   "outputs": [
    {
     "name": "stdout",
     "output_type": "stream",
     "text": [
      "(40881, 16)\n",
      "<class 'pandas.core.frame.DataFrame'>\n",
      "RangeIndex: 40881 entries, 0 to 40880\n",
      "Data columns (total 16 columns):\n",
      " #   Column                  Non-Null Count  Dtype \n",
      "---  ------                  --------------  ----- \n",
      " 0   video_id                40881 non-null  object\n",
      " 1   trending_date           40881 non-null  object\n",
      " 2   title                   40881 non-null  object\n",
      " 3   channel_title           40881 non-null  object\n",
      " 4   category_id             40881 non-null  int64 \n",
      " 5   publish_time            40881 non-null  object\n",
      " 6   tags                    40881 non-null  object\n",
      " 7   views                   40881 non-null  int64 \n",
      " 8   likes                   40881 non-null  int64 \n",
      " 9   dislikes                40881 non-null  int64 \n",
      " 10  comment_count           40881 non-null  int64 \n",
      " 11  thumbnail_link          40881 non-null  object\n",
      " 12  comments_disabled       40881 non-null  bool  \n",
      " 13  ratings_disabled        40881 non-null  bool  \n",
      " 14  video_error_or_removed  40881 non-null  bool  \n",
      " 15  description             39585 non-null  object\n",
      "dtypes: bool(3), int64(5), object(8)\n",
      "memory usage: 4.2+ MB\n",
      "None\n",
      "      video_id trending_date  \\\n",
      "0  n1WpP7iowLc      17.14.11   \n",
      "1  0dBIkQ4Mz1M      17.14.11   \n",
      "2  5qpjK5DgCt4      17.14.11   \n",
      "3  d380meD0W0M      17.14.11   \n",
      "4  2Vv-BfVoq4g      17.14.11   \n",
      "\n",
      "                                               title channel_title  \\\n",
      "0         Eminem - Walk On Water (Audio) ft. Beyoncé    EminemVEVO   \n",
      "1                      PLUSH - Bad Unboxing Fan Mail     iDubbbzTV   \n",
      "2  Racist Superman | Rudy Mancuso, King Bach & Le...  Rudy Mancuso   \n",
      "3                           I Dare You: GOING BALD!?      nigahiga   \n",
      "4        Ed Sheeran - Perfect (Official Music Video)    Ed Sheeran   \n",
      "\n",
      "   category_id              publish_time  \\\n",
      "0           10  2017-11-10T17:00:03.000Z   \n",
      "1           23  2017-11-13T17:00:00.000Z   \n",
      "2           23  2017-11-12T19:05:24.000Z   \n",
      "3           24  2017-11-12T18:01:41.000Z   \n",
      "4           10  2017-11-09T11:04:14.000Z   \n",
      "\n",
      "                                                tags     views    likes  \\\n",
      "0  Eminem|\"Walk\"|\"On\"|\"Water\"|\"Aftermath/Shady/In...  17158579   787425   \n",
      "1  plush|\"bad unboxing\"|\"unboxing\"|\"fan mail\"|\"id...   1014651   127794   \n",
      "2  racist superman|\"rudy\"|\"mancuso\"|\"king\"|\"bach\"...   3191434   146035   \n",
      "3  ryan|\"higa\"|\"higatv\"|\"nigahiga\"|\"i dare you\"|\"...   2095828   132239   \n",
      "4  edsheeran|\"ed sheeran\"|\"acoustic\"|\"live\"|\"cove...  33523622  1634130   \n",
      "\n",
      "   dislikes  comment_count                                  thumbnail_link  \\\n",
      "0     43420         125882  https://i.ytimg.com/vi/n1WpP7iowLc/default.jpg   \n",
      "1      1688          13030  https://i.ytimg.com/vi/0dBIkQ4Mz1M/default.jpg   \n",
      "2      5339           8181  https://i.ytimg.com/vi/5qpjK5DgCt4/default.jpg   \n",
      "3      1989          17518  https://i.ytimg.com/vi/d380meD0W0M/default.jpg   \n",
      "4     21082          85067  https://i.ytimg.com/vi/2Vv-BfVoq4g/default.jpg   \n",
      "\n",
      "   comments_disabled  ratings_disabled  video_error_or_removed  \\\n",
      "0              False             False                   False   \n",
      "1              False             False                   False   \n",
      "2              False             False                   False   \n",
      "3              False             False                   False   \n",
      "4              False             False                   False   \n",
      "\n",
      "                                         description  \n",
      "0  Eminem's new track Walk on Water ft. Beyoncé i...  \n",
      "1  STill got a lot of packages. Probably will las...  \n",
      "2  WATCH MY PREVIOUS VIDEO ▶ \\n\\nSUBSCRIBE ► http...  \n",
      "3  I know it's been a while since we did this sho...  \n",
      "4  🎧: https://ad.gt/yt-perfect\\n💰: https://atlant...  \n"
     ]
    }
   ],
   "source": [
    "import pandas as pd\n",
    "import numpy as np\n",
    "import json\n",
    "# 1. Load the dataset (example: US trending videos)\n",
    "df = pd.read_csv(\"CAvideos.csv\")\n",
    "\n",
    "# Quick look at the data\n",
    "print(df.shape)\n",
    "print(df.info())\n",
    "print(df.head())\n"
   ]
  },
  {
   "cell_type": "code",
   "execution_count": 9,
   "id": "bbb338b3-0c2f-4768-860a-6de9ff0b1693",
   "metadata": {},
   "outputs": [
    {
     "name": "stdout",
     "output_type": "stream",
     "text": [
      "video_id                     0\n",
      "trending_date                0\n",
      "title                        0\n",
      "channel_title                0\n",
      "category_id                  0\n",
      "publish_time                 0\n",
      "tags                         0\n",
      "views                        0\n",
      "likes                        0\n",
      "dislikes                     0\n",
      "comment_count                0\n",
      "thumbnail_link               0\n",
      "comments_disabled            0\n",
      "ratings_disabled             0\n",
      "video_error_or_removed       0\n",
      "description               1296\n",
      "dtype: int64\n"
     ]
    }
   ],
   "source": [
    "# Check missing values\n",
    "print(df.isnull().sum())\n",
    "\n",
    "# Fill missing descriptions\n",
    "df['description'] = df['description'].fillna(\"No description\")\n"
   ]
  },
  {
   "cell_type": "code",
   "execution_count": 10,
   "id": "79c7b4dd-ebb2-43e4-8e83-22ca4346749d",
   "metadata": {},
   "outputs": [
    {
     "name": "stdout",
     "output_type": "stream",
     "text": [
      "Duplicates before: 0\n",
      "Duplicates after: 0\n"
     ]
    }
   ],
   "source": [
    "print(\"Duplicates before:\", df.duplicated().sum())\n",
    "\n",
    "df = df.drop_duplicates()\n",
    "\n",
    "print(\"Duplicates after:\", df.duplicated().sum())\n"
   ]
  },
  {
   "cell_type": "code",
   "execution_count": 11,
   "id": "51a063ce-9c69-4037-8b3e-5e1e2ea2a9f5",
   "metadata": {},
   "outputs": [],
   "source": [
    "# Convert trending_date (YY.DD.MM → datetime)\n",
    "df['trending_date'] = pd.to_datetime(df['trending_date'], format='%y.%d.%m', errors='coerce')\n",
    "\n",
    "# Convert publish_time to datetime\n",
    "df['publish_time'] = pd.to_datetime(df['publish_time'], errors='coerce')\n",
    "\n",
    "# Extract useful parts\n",
    "df['publish_date'] = df['publish_time'].dt.date\n",
    "df['publish_hour'] = df['publish_time'].dt.hour\n",
    "\n",
    "# Standardize text\n",
    "df['title'] = df['title'].str.strip().str.lower()\n",
    "df['channel_title'] = df['channel_title'].str.strip().str.lower()\n"
   ]
  },
  {
   "cell_type": "code",
   "execution_count": 13,
   "id": "4a0aa66a-2420-4e61-9ffd-36aab637bcbb",
   "metadata": {},
   "outputs": [
    {
     "name": "stdout",
     "output_type": "stream",
     "text": [
      "              views         likes      dislikes  comment_count\n",
      "count  4.088100e+04  4.088100e+04  4.088100e+04   4.088100e+04\n",
      "mean   1.147036e+06  3.958269e+04  2.009195e+03   5.042975e+03\n",
      "std    3.390913e+06  1.326895e+05  1.900837e+04   2.157902e+04\n",
      "min    7.330000e+02  0.000000e+00  0.000000e+00   0.000000e+00\n",
      "25%    1.439020e+05  2.191000e+03  9.900000e+01   4.170000e+02\n",
      "50%    3.712040e+05  8.780000e+03  3.030000e+02   1.301000e+03\n",
      "75%    9.633020e+05  2.871700e+04  9.500000e+02   3.713000e+03\n",
      "max    1.378431e+08  5.053338e+06  1.602383e+06   1.114800e+06\n"
     ]
    }
   ],
   "source": [
    "# Views, likes, dislikes, comments\n",
    "print(df[['views','likes','dislikes','comment_count']].describe())\n",
    "\n",
    "# Cap outliers (IQR method)\n",
    "for col in ['views', 'likes', 'dislikes', 'comment_count']:\n",
    "    Q1 = df[col].quantile(0.25)\n",
    "    Q3 = df[col].quantile(0.75)\n",
    "    IQR = Q3 - Q1\n",
    "    upper = Q3 + 1.5 * IQR\n",
    "    df[col] = np.where(df[col] > upper, upper, df[col])\n"
   ]
  },
  {
   "cell_type": "code",
   "execution_count": 18,
   "id": "5097539f-2929-455f-8bdb-1b0ed7fdb87d",
   "metadata": {},
   "outputs": [
    {
     "name": "stdout",
     "output_type": "stream",
     "text": [
      "   category_id    category_name\n",
      "0           10            Music\n",
      "1           23           Comedy\n",
      "2           23           Comedy\n",
      "3           24    Entertainment\n",
      "4           10            Music\n",
      "5           25  News & Politics\n",
      "6           23           Comedy\n",
      "7           22   People & Blogs\n",
      "8           24    Entertainment\n",
      "9           22   People & Blogs\n"
     ]
    }
   ],
   "source": [
    "import json\n",
    "\n",
    "# Load category mapping from JSON (make sure the file is in the same folder as your notebook)\n",
    "with open(\"CA_category_id (4).json\", \"r\", encoding=\"utf-8\") as f:\n",
    "    categories = json.load(f)\n",
    "\n",
    "# Some versions wrap in \"items\", others don't\n",
    "if \"items\" in categories:\n",
    "    items = categories[\"items\"]\n",
    "else:\n",
    "    items = categories\n",
    "\n",
    "# Build mapping {id: category_name}\n",
    "category_mapping = {int(item[\"id\"]): item[\"snippet\"][\"title\"] for item in items}\n",
    "\n",
    "# Apply mapping\n",
    "df[\"category_name\"] = df[\"category_id\"].map(category_mapping)\n",
    "\n",
    "# Quick check\n",
    "print(df[[\"category_id\", \"category_name\"]].head(10))\n"
   ]
  },
  {
   "cell_type": "code",
   "execution_count": 19,
   "id": "8cb9be44-7348-40ce-bd23-7bde7dd00cf2",
   "metadata": {},
   "outputs": [
    {
     "name": "stdout",
     "output_type": "stream",
     "text": [
      "Cleaned dataset saved as CAvideos_cleaned.csv\n"
     ]
    }
   ],
   "source": [
    "df.to_csv(\"CAvideos_cleaned.csv\", index=False)\n",
    "print(\"Cleaned dataset saved as CAvideos_cleaned.csv\")\n"
   ]
  },
  {
   "cell_type": "code",
   "execution_count": 20,
   "id": "cb8c17ba-d5bf-402a-9dd2-f4dbbc5f2931",
   "metadata": {},
   "outputs": [
    {
     "data": {
      "image/png": "[encoded data removed]",
      "text/plain": [
       "<Figure size 1000x500 with 1 Axes>"
      ]
     },
     "metadata": {},
     "output_type": "display_data"
    }
   ],
   "source": [
    "import matplotlib.pyplot as plt\n",
    "\n",
    "# Top categories\n",
    "df['category_name'].value_counts().head(10).plot(kind='bar', figsize=(10,5))\n",
    "plt.title(\"Top 10 YouTube Categories (Canada)\")\n",
    "plt.xlabel(\"Category\")\n",
    "plt.ylabel(\"Count\")\n",
    "plt.show()\n"
   ]
  },
  {
   "cell_type": "code",
   "execution_count": null,
   "id": "1b65caf7-2a0f-40d1-8e55-13c9f4ac0fea",
   "metadata": {},
   "outputs": [],
   "source": []
  }
 ],
 "metadata": {
  "kernelspec": {
   "display_name": "Python 3 (ipykernel)",
   "language": "python",
   "name": "python3"
  },
  "language_info": {
   "codemirror_mode": {
    "name": "ipython",
    "version": 3
   },
   "file_extension": ".py",
   "mimetype": "text/x-python",
   "name": "python",
   "nbconvert_exporter": "python",
   "pygments_lexer": "ipython3",
   "version": "3.13.5"
  }
 },
 "nbformat": 4,
 "nbformat_minor": 5
}
